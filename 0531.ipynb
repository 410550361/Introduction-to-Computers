{
  "nbformat": 4,
  "nbformat_minor": 0,
  "metadata": {
    "colab": {
      "name": "Untitled4.ipynb",
      "provenance": [],
      "authorship_tag": "ABX9TyOApRmKRKtaTCPSfw8OXDRu",
      "include_colab_link": true
    },
    "kernelspec": {
      "name": "python3",
      "display_name": "Python 3"
    },
    "language_info": {
      "name": "python"
    }
  },
  "cells": [
    {
      "cell_type": "markdown",
      "metadata": {
        "id": "view-in-github",
        "colab_type": "text"
      },
      "source": [
        "<a href=\"https://colab.research.google.com/github/410550361/Introduction-to-Computers/blob/main/0531.ipynb\" target=\"_parent\"><img src=\"https://colab.research.google.com/assets/colab-badge.svg\" alt=\"Open In Colab\"/></a>"
      ]
    },
    {
      "cell_type": "code",
      "execution_count": 8,
      "metadata": {
        "colab": {
          "base_uri": "https://localhost:8080/"
        },
        "id": "9lzKgrd96BIE",
        "outputId": "9bce41d9-b583-44d8-bbee-d2469b46126c"
      },
      "outputs": [
        {
          "output_type": "stream",
          "name": "stdout",
          "text": [
            "1*1=1\t 1*2=2\t 1*3=3\t 1*4=4\t 1*5=5\t 1*6=6\t 1*7=7\t 1*8=8\t 1*9=9\t \n",
            "2*1=2\t 2*2=4\t 2*3=6\t 2*4=8\t 2*5=10\t 2*6=12\t 2*7=14\t 2*8=16\t 2*9=18\t \n",
            "3*1=3\t 3*2=6\t 3*3=9\t 3*4=12\t 3*5=15\t 3*6=18\t 3*7=21\t 3*8=24\t 3*9=27\t \n",
            "4*1=4\t 4*2=8\t 4*3=12\t 4*4=16\t 4*5=20\t 4*6=24\t 4*7=28\t 4*8=32\t 4*9=36\t \n",
            "5*1=5\t 5*2=10\t 5*3=15\t 5*4=20\t 5*5=25\t 5*6=30\t 5*7=35\t 5*8=40\t 5*9=45\t \n",
            "6*1=6\t 6*2=12\t 6*3=18\t 6*4=24\t 6*5=30\t 6*6=36\t 6*7=42\t 6*8=48\t 6*9=54\t \n",
            "7*1=7\t 7*2=14\t 7*3=21\t 7*4=28\t 7*5=35\t 7*6=42\t 7*7=49\t 7*8=56\t 7*9=63\t \n",
            "8*1=8\t 8*2=16\t 8*3=24\t 8*4=32\t 8*5=40\t 8*6=48\t 8*7=56\t 8*8=64\t 8*9=72\t \n",
            "9*1=9\t 9*2=18\t 9*3=27\t 9*4=36\t 9*5=45\t 9*6=54\t 9*7=63\t 9*8=72\t 9*9=81\t \n"
          ]
        }
      ],
      "source": [
        "for i in range(1,10):\n",
        "  for j in range(1,10):\n",
        "    print(str(i)+\"*\"+str(j)+\"=\"+str(i*j)+\"\\t\",end=\" \")\n",
        "  print()"
      ]
    }
  ]
}