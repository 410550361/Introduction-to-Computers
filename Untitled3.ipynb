{
  "nbformat": 4,
  "nbformat_minor": 0,
  "metadata": {
    "colab": {
      "name": "Untitled3.ipynb",
      "provenance": [],
      "authorship_tag": "ABX9TyMv0nP07Jlr3VPLqFl1gYrD",
      "include_colab_link": true
    },
    "kernelspec": {
      "name": "python3",
      "display_name": "Python 3"
    },
    "language_info": {
      "name": "python"
    }
  },
  "cells": [
    {
      "cell_type": "markdown",
      "metadata": {
        "id": "view-in-github",
        "colab_type": "text"
      },
      "source": [
        "<a href=\"https://colab.research.google.com/github/410550361/Introduction-to-Computers/blob/main/Untitled3.ipynb\" target=\"_parent\"><img src=\"https://colab.research.google.com/assets/colab-badge.svg\" alt=\"Open In Colab\"/></a>"
      ]
    },
    {
      "cell_type": "code",
      "execution_count": null,
      "metadata": {
        "id": "djWZR04iZc-4"
      },
      "outputs": [],
      "source": [
        ""
      ]
    },
    {
      "cell_type": "code",
      "source": [
        "money=int(input('請輸入消費者身上的金額'))\n",
        "if(money<100):\n",
        "  print(\"金額不足\")\n",
        "elif(money>=100and money<200):\n",
        "  print(\"可購買手機\")\n",
        "elif(money>=200and money<300):\n",
        "  print(\"可購買平板\")\n",
        "else:\n",
        "  (money>=300and money<400)\n",
        "  print(\"可購買電腦\")\n",
        "  "
      ],
      "metadata": {
        "id": "DNt7jzCmZhoH"
      },
      "execution_count": null,
      "outputs": []
    }
  ]
}